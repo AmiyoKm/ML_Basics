{
  "cells": [
    {
      "cell_type": "markdown",
      "metadata": {
        "colab_type": "text",
        "id": "1fziHl7Ar94J"
      },
      "source": [
        "# Eclat"
      ]
    },
    {
      "cell_type": "markdown",
      "metadata": {
        "colab_type": "text",
        "id": "eiNwni1xsEgT"
      },
      "source": [
        "## Importing the libraries"
      ]
    },
    {
      "cell_type": "code",
      "execution_count": 17,
      "metadata": {
        "colab": {
          "base_uri": "https://localhost:8080/",
          "height": 34
        },
        "colab_type": "code",
        "id": "DUF77Qr1vqyM",
        "outputId": "86e8ae3e-6a35-47bc-a832-5a02936a9c65"
      },
      "outputs": [
        {
          "name": "stdout",
          "output_type": "stream",
          "text": [
            "Requirement already satisfied: apyori in /home/amiyo/anaconda3/envs/ML_BASICS/lib/python3.11/site-packages (1.1.2)\n",
            "Note: you may need to restart the kernel to use updated packages.\n"
          ]
        }
      ],
      "source": [
        "%pip install apyori"
      ]
    },
    {
      "cell_type": "code",
      "execution_count": 18,
      "metadata": {
        "colab": {},
        "colab_type": "code",
        "id": "UJfitBClsJlT"
      },
      "outputs": [],
      "source": [
        "import numpy as np\n",
        "import matplotlib.pyplot as plt\n",
        "import pandas as pd"
      ]
    },
    {
      "cell_type": "markdown",
      "metadata": {
        "colab_type": "text",
        "id": "vLt-7XUKsXBd"
      },
      "source": [
        "## Data Preprocessing"
      ]
    },
    {
      "cell_type": "code",
      "execution_count": 19,
      "metadata": {
        "colab": {},
        "colab_type": "code",
        "id": "J_A-UFOAsaDf"
      },
      "outputs": [],
      "source": [
        "dataset = pd.read_csv('Market_Basket_Optimisation.csv', header = None)\n",
        "transactions = []\n",
        "for i in range(0, 7501):\n",
        "  transactions.append([str(dataset.values[i,j]) for j in range(0, 20)])"
      ]
    },
    {
      "cell_type": "markdown",
      "metadata": {
        "colab_type": "text",
        "id": "1wYZdBd5sea_"
      },
      "source": [
        "## Training the Eclat model on the dataset"
      ]
    },
    {
      "cell_type": "code",
      "execution_count": 20,
      "metadata": {
        "colab": {},
        "colab_type": "code",
        "id": "YzIk4vXZsj5i"
      },
      "outputs": [],
      "source": [
        "from apyori import apriori\n",
        "rules = apriori(transactions = transactions, min_support = 3*7/7501, min_confidence = 0.2, min_lift = 3, min_length = 2, max_length = 2)"
      ]
    },
    {
      "cell_type": "markdown",
      "metadata": {
        "colab_type": "text",
        "id": "b176YNwWspiO"
      },
      "source": [
        "## Visualising the results"
      ]
    },
    {
      "cell_type": "markdown",
      "metadata": {
        "colab_type": "text",
        "id": "iO6bF_dImT-E"
      },
      "source": [
        "### Displaying the first results coming directly from the output of the apriori function"
      ]
    },
    {
      "cell_type": "code",
      "execution_count": 21,
      "metadata": {
        "colab": {},
        "colab_type": "code",
        "id": "kvF-sLc6ifhd"
      },
      "outputs": [],
      "source": [
        "results = list(rules)"
      ]
    },
    {
      "cell_type": "code",
      "execution_count": 22,
      "metadata": {
        "colab": {
          "base_uri": "https://localhost:8080/",
          "height": 191
        },
        "colab_type": "code",
        "id": "eAD8Co4_l9IE",
        "outputId": "b87395d9-2a75-49ab-9206-61fb678e6aa8"
      },
      "outputs": [
        {
          "data": {
            "text/plain": [
              "[RelationRecord(items=frozenset({'burgers             ', ' almonds             '}), support=0.004266097853619517, ordered_statistics=[OrderedStatistic(items_base=frozenset({' almonds             '}), items_add=frozenset({'burgers             '}), confidence=0.24427480916030533, lift=3.295513207754407)]),\n",
              " RelationRecord(items=frozenset({' spaghetti           ', ' bacon               '}), support=0.0029329422743634183, ordered_statistics=[OrderedStatistic(items_base=frozenset({' bacon               '}), items_add=frozenset({' spaghetti           '}), confidence=0.38596491228070173, lift=3.2602734313260626)]),\n",
              " RelationRecord(items=frozenset({' black tea           ', ' milk                '}), support=0.0037328356219170776, ordered_statistics=[OrderedStatistic(items_base=frozenset({' black tea           '}), items_add=frozenset({' milk                '}), confidence=0.3111111111111111, lift=3.2188199233716475)]),\n",
              " RelationRecord(items=frozenset({' burgers             ', 'turkey              '}), support=0.009732035728569524, ordered_statistics=[OrderedStatistic(items_base=frozenset({' burgers             '}), items_add=frozenset({'turkey              '}), confidence=0.948051948051948, lift=15.980534072668904)]),\n",
              " RelationRecord(items=frozenset({' cereals             ', ' milk                '}), support=0.005465937874950006, ordered_statistics=[OrderedStatistic(items_base=frozenset({' cereals             '}), items_add=frozenset({' milk                '}), confidence=0.3203125, lift=3.314019396551724)]),\n",
              " RelationRecord(items=frozenset({' chicken             ', ' extra dark chocolate'}), support=0.0027996267164378083, ordered_statistics=[OrderedStatistic(items_base=frozenset({' extra dark chocolate'}), items_add=frozenset({' chicken             '}), confidence=0.25609756097560976, lift=5.220075556733828)]),\n",
              " RelationRecord(items=frozenset({' chicken             ', ' light cream         '}), support=0.0035995200639914677, ordered_statistics=[OrderedStatistic(items_base=frozenset({' light cream         '}), items_add=frozenset({' chicken             '}), confidence=0.26732673267326734, lift=5.44896147223418)]),\n",
              " RelationRecord(items=frozenset({' chicken             ', ' meatballs           '}), support=0.0030662578322890282, ordered_statistics=[OrderedStatistic(items_base=frozenset({' meatballs           '}), items_add=frozenset({' chicken             '}), confidence=0.20175438596491227, lift=4.112390350877193)]),\n",
              " RelationRecord(items=frozenset({' ham                 ', ' chocolate           '}), support=0.0027996267164378083, ordered_statistics=[OrderedStatistic(items_base=frozenset({' ham                 '}), items_add=frozenset({' chocolate           '}), confidence=0.28378378378378377, lift=3.0939857008170963)]),\n",
              " RelationRecord(items=frozenset({' cider               ', ' eggs                '}), support=0.0029329422743634183, ordered_statistics=[OrderedStatistic(items_base=frozenset({' cider               '}), items_add=frozenset({' eggs                '}), confidence=0.34375000000000006, lift=3.008714994165695)]),\n",
              " RelationRecord(items=frozenset({' milk                ', ' cider               '}), support=0.0029329422743634183, ordered_statistics=[OrderedStatistic(items_base=frozenset({' cider               '}), items_add=frozenset({' milk                '}), confidence=0.34375000000000006, lift=3.5565086206896557)]),\n",
              " RelationRecord(items=frozenset({' cookies             ', ' french fries        '}), support=0.007865617917610986, ordered_statistics=[OrderedStatistic(items_base=frozenset({' cookies             '}), items_add=frozenset({' french fries        '}), confidence=0.3259668508287293, lift=3.5333487688819343)]),\n",
              " RelationRecord(items=frozenset({' cookies             ', ' green tea'}), support=0.007998933475536596, ordered_statistics=[OrderedStatistic(items_base=frozenset({' cookies             '}), items_add=frozenset({' green tea'}), confidence=0.33149171270718236, lift=3.521982063762854)]),\n",
              " RelationRecord(items=frozenset({' energy drink        ', ' green tea'}), support=0.0027996267164378083, ordered_statistics=[OrderedStatistic(items_base=frozenset({' energy drink        '}), items_add=frozenset({' green tea'}), confidence=0.3333333333333333, lift=3.541548630783758)]),\n",
              " RelationRecord(items=frozenset({' escalope            ', ' mushroom cream sauce'}), support=0.004532728969470737, ordered_statistics=[OrderedStatistic(items_base=frozenset({' mushroom cream sauce'}), items_add=frozenset({' escalope            '}), confidence=0.25, lift=7.685450819672131)]),\n",
              " RelationRecord(items=frozenset({' hot dogs            ', ' french fries        '}), support=0.004799360085321957, ordered_statistics=[OrderedStatistic(items_base=frozenset({' hot dogs            '}), items_add=frozenset({' french fries        '}), confidence=0.27692307692307694, lift=3.001734104046243)]),\n",
              " RelationRecord(items=frozenset({' light mayo          ', ' french fries        '}), support=0.0029329422743634183, ordered_statistics=[OrderedStatistic(items_base=frozenset({' light mayo          '}), items_add=frozenset({' french fries        '}), confidence=0.3333333333333333, lift=3.613198458574181)]),\n",
              " RelationRecord(items=frozenset({' strawberries        ', ' french fries        '}), support=0.0030662578322890282, ordered_statistics=[OrderedStatistic(items_base=frozenset({' strawberries        '}), items_add=frozenset({' french fries        '}), confidence=0.32394366197183094, lift=3.5114182203044857)]),\n",
              " RelationRecord(items=frozenset({' tomato juice        ', ' fresh bread'}), support=0.0027996267164378083, ordered_statistics=[OrderedStatistic(items_base=frozenset({' tomato juice        '}), items_add=frozenset({' fresh bread'}), confidence=0.21, lift=7.95560606060606)]),\n",
              " RelationRecord(items=frozenset({' fresh bread         ', ' green tea'}), support=0.004799360085321957, ordered_statistics=[OrderedStatistic(items_base=frozenset({' fresh bread         '}), items_add=frozenset({' green tea'}), confidence=0.33027522935779813, lift=3.509057358941705)]),\n",
              " RelationRecord(items=frozenset({' low fat yogurt', ' fresh bread         '}), support=0.0035995200639914677, ordered_statistics=[OrderedStatistic(items_base=frozenset({' fresh bread         '}), items_add=frozenset({' low fat yogurt'}), confidence=0.2477064220183486, lift=3.9701834862385317)]),\n",
              " RelationRecord(items=frozenset({'burgers             ', ' fresh tuna          '}), support=0.0030662578322890282, ordered_statistics=[OrderedStatistic(items_base=frozenset({' fresh tuna          '}), items_add=frozenset({'burgers             '}), confidence=0.6052631578947368, lift=8.165609617569102)]),\n",
              " RelationRecord(items=frozenset({' honey               ', ' fromage blanc       '}), support=0.0030662578322890282, ordered_statistics=[OrderedStatistic(items_base=frozenset({' fromage blanc       '}), items_add=frozenset({' honey               '}), confidence=0.27380952380952384, lift=8.739766970618035)]),\n",
              " RelationRecord(items=frozenset({' hot dogs            ', ' frozen smoothie     '}), support=0.0035995200639914677, ordered_statistics=[OrderedStatistic(items_base=frozenset({' hot dogs            '}), items_add=frozenset({' frozen smoothie     '}), confidence=0.2076923076923077, lift=5.263175675675676)]),\n",
              " RelationRecord(items=frozenset({' ground beef         ', ' frozen vegetables   '}), support=0.010265297960271964, ordered_statistics=[OrderedStatistic(items_base=frozenset({' frozen vegetables   '}), items_add=frozenset({' ground beef         '}), confidence=0.22985074626865673, lift=3.393918204254319)]),\n",
              " RelationRecord(items=frozenset({' parmesan cheese     ', ' frozen vegetables   '}), support=0.0030662578322890282, ordered_statistics=[OrderedStatistic(items_base=frozenset({' parmesan cheese     '}), items_add=frozenset({' frozen vegetables   '}), confidence=0.24731182795698928, lift=5.537570213448885)]),\n",
              " RelationRecord(items=frozenset({' shrimp              ', ' frozen vegetables   '}), support=0.006265831222503666, ordered_statistics=[OrderedStatistic(items_base=frozenset({' shrimp              '}), items_add=frozenset({' frozen vegetables   '}), confidence=0.22705314009661834, lift=5.083957026461893)]),\n",
              " RelationRecord(items=frozenset({' tomatoes            ', ' frozen vegetables   '}), support=0.008932142381015865, ordered_statistics=[OrderedStatistic(items_base=frozenset({' frozen vegetables   '}), items_add=frozenset({' tomatoes            '}), confidence=0.2, lift=5.191003460207613), OrderedStatistic(items_base=frozenset({' tomatoes            '}), items_add=frozenset({' frozen vegetables   '}), confidence=0.2318339100346021, lift=5.191003460207613)]),\n",
              " RelationRecord(items=frozenset({'shrimp              ', ' frozen vegetables   '}), support=0.010131982402346354, ordered_statistics=[OrderedStatistic(items_base=frozenset({' frozen vegetables   '}), items_add=frozenset({'shrimp              '}), confidence=0.22686567164179103, lift=5.47176656908384), OrderedStatistic(items_base=frozenset({'shrimp              '}), items_add=frozenset({' frozen vegetables   '}), confidence=0.24437299035369772, lift=5.471766569083841)]),\n",
              " RelationRecord(items=frozenset({' ground beef         ', ' grated cheese       '}), support=0.003332888948140248, ordered_statistics=[OrderedStatistic(items_base=frozenset({' grated cheese       '}), items_add=frozenset({' ground beef         '}), confidence=0.25252525252525254, lift=3.7287242503777938)]),\n",
              " RelationRecord(items=frozenset({' spaghetti           ', ' grated cheese       '}), support=0.005465937874950006, ordered_statistics=[OrderedStatistic(items_base=frozenset({' grated cheese       '}), items_add=frozenset({' spaghetti           '}), confidence=0.4141414141414141, lift=3.4982823732823727)]),\n",
              " RelationRecord(items=frozenset({'burgers             ', ' grated cheese       '}), support=0.004266097853619517, ordered_statistics=[OrderedStatistic(items_base=frozenset({' grated cheese       '}), items_add=frozenset({'burgers             '}), confidence=0.3232323232323232, lift=4.360729598139669)]),\n",
              " RelationRecord(items=frozenset({'turkey              ', ' grated cheese       '}), support=0.004932675643247567, ordered_statistics=[OrderedStatistic(items_base=frozenset({' grated cheese       '}), items_add=frozenset({'turkey              '}), confidence=0.37373737373737376, lift=6.299784360458519)]),\n",
              " RelationRecord(items=frozenset({' light mayo          ', ' green tea'}), support=0.003332888948140248, ordered_statistics=[OrderedStatistic(items_base=frozenset({' light mayo          '}), items_add=frozenset({' green tea'}), confidence=0.3787878787878788, lift=4.024487080436089)]),\n",
              " RelationRecord(items=frozenset({' low fat yogurt      ', ' green tea'}), support=0.004532728969470737, ordered_statistics=[OrderedStatistic(items_base=frozenset({' low fat yogurt      '}), items_add=frozenset({' green tea'}), confidence=0.5762711864406779, lift=6.122677293897343)]),\n",
              " RelationRecord(items=frozenset({' tomato juice        ', ' green tea'}), support=0.0038661511798426876, ordered_statistics=[OrderedStatistic(items_base=frozenset({' tomato juice        '}), items_add=frozenset({' green tea'}), confidence=0.29, lift=3.0811473087818695)]),\n",
              " RelationRecord(items=frozenset({' yogurt cake         ', ' green tea'}), support=0.0034662045060658577, ordered_statistics=[OrderedStatistic(items_base=frozenset({' yogurt cake         '}), items_add=frozenset({' green tea'}), confidence=0.3714285714285714, lift=3.9462970457304727)]),\n",
              " RelationRecord(items=frozenset({' ground beef         ', ' herb & pepper       '}), support=0.005865884548726837, ordered_statistics=[OrderedStatistic(items_base=frozenset({' herb & pepper       '}), items_add=frozenset({' ground beef         '}), confidence=0.3235294117647059, lift=4.777153774895785)]),\n",
              " RelationRecord(items=frozenset({' ground beef         ', ' olive oil           '}), support=0.010665244634048793, ordered_statistics=[OrderedStatistic(items_base=frozenset({' olive oil           '}), items_add=frozenset({' ground beef         '}), confidence=0.2099737532808399, lift=3.1004195341724015)]),\n",
              " RelationRecord(items=frozenset({' pepper              ', ' ground beef         '}), support=0.004399413411545127, ordered_statistics=[OrderedStatistic(items_base=frozenset({' pepper              '}), items_add=frozenset({' ground beef         '}), confidence=0.24444444444444446, lift=3.6094050743657045)]),\n",
              " RelationRecord(items=frozenset({' ground beef         ', ' rice                '}), support=0.003999466737768298, ordered_statistics=[OrderedStatistic(items_base=frozenset({' rice                '}), items_add=frozenset({' ground beef         '}), confidence=0.24590163934426235, lift=3.6309216470891963)]),\n",
              " RelationRecord(items=frozenset({' ground beef         ', ' shrimp              '}), support=0.0061325156645780565, ordered_statistics=[OrderedStatistic(items_base=frozenset({' shrimp              '}), items_add=frozenset({' ground beef         '}), confidence=0.2222222222222222, lift=3.281277340332458)]),\n",
              " RelationRecord(items=frozenset({' soup                ', ' ground beef         '}), support=0.007998933475536596, ordered_statistics=[OrderedStatistic(items_base=frozenset({' soup                '}), items_add=frozenset({' ground beef         '}), confidence=0.20761245674740486, lift=3.0655532245320547)]),\n",
              " RelationRecord(items=frozenset({' spaghetti           ', ' ground beef         '}), support=0.028396213838154914, ordered_statistics=[OrderedStatistic(items_base=frozenset({' ground beef         '}), items_add=frozenset({' spaghetti           '}), confidence=0.41929133858267714, lift=3.5417841562034473), OrderedStatistic(items_base=frozenset({' spaghetti           '}), items_add=frozenset({' ground beef         '}), confidence=0.23986486486486486, lift=3.5417841562034473)]),\n",
              " RelationRecord(items=frozenset({' ground beef         ', ' tomato sauce        '}), support=0.0035995200639914677, ordered_statistics=[OrderedStatistic(items_base=frozenset({' tomato sauce        '}), items_add=frozenset({' ground beef         '}), confidence=0.3333333333333333, lift=4.921916010498687)]),\n",
              " RelationRecord(items=frozenset({' ground beef         ', ' tomatoes            '}), support=0.008132249033462205, ordered_statistics=[OrderedStatistic(items_base=frozenset({' tomatoes            '}), items_add=frozenset({' ground beef         '}), confidence=0.21107266435986158, lift=3.116645778274255)]),\n",
              " RelationRecord(items=frozenset({' ground beef         ', 'grated cheese       '}), support=0.007732302359685375, ordered_statistics=[OrderedStatistic(items_base=frozenset({'grated cheese       '}), items_add=frozenset({' ground beef         '}), confidence=0.21323529411764708, lift=3.148578624363131)]),\n",
              " RelationRecord(items=frozenset({'ham                 ', ' ground beef         '}), support=0.0034662045060658577, ordered_statistics=[OrderedStatistic(items_base=frozenset({'ham                 '}), items_add=frozenset({' ground beef         '}), confidence=0.2222222222222222, lift=3.281277340332458)]),\n",
              " RelationRecord(items=frozenset({'herb & pepper       ', ' ground beef         '}), support=0.009732035728569524, ordered_statistics=[OrderedStatistic(items_base=frozenset({'herb & pepper       '}), items_add=frozenset({' ground beef         '}), confidence=0.3459715639810427, lift=5.108528939806694)]),\n",
              " RelationRecord(items=frozenset({'red wine            ', ' ground beef         '}), support=0.0030662578322890282, ordered_statistics=[OrderedStatistic(items_base=frozenset({'red wine            '}), items_add=frozenset({' ground beef         '}), confidence=0.20353982300884957, lift=3.0054177409239773)]),\n",
              " RelationRecord(items=frozenset({'burgers             ', ' ham                 '}), support=0.004799360085321957, ordered_statistics=[OrderedStatistic(items_base=frozenset({' ham                 '}), items_add=frozenset({'burgers             '}), confidence=0.48648648648648646, lift=6.563192689091969)]),\n",
              " RelationRecord(items=frozenset({' ham                 ', 'turkey              '}), support=0.0027996267164378083, ordered_statistics=[OrderedStatistic(items_base=frozenset({' ham                 '}), items_add=frozenset({'turkey              '}), confidence=0.28378378378378377, lift=4.783510476768904)]),\n",
              " RelationRecord(items=frozenset({' spaghetti           ', ' herb & pepper       '}), support=0.007332355685908546, ordered_statistics=[OrderedStatistic(items_base=frozenset({' herb & pepper       '}), items_add=frozenset({' spaghetti           '}), confidence=0.4044117647058824, lift=3.4160953232644413)]),\n",
              " RelationRecord(items=frozenset({'grated cheese       ', ' herb & pepper       '}), support=0.004266097853619517, ordered_statistics=[OrderedStatistic(items_base=frozenset({' herb & pepper       '}), items_add=frozenset({'grated cheese       '}), confidence=0.23529411764705882, lift=6.4887543252595155)]),\n",
              " RelationRecord(items=frozenset({' herb & pepper       ', 'turkey              '}), support=0.004399413411545127, ordered_statistics=[OrderedStatistic(items_base=frozenset({' herb & pepper       '}), items_add=frozenset({'turkey              '}), confidence=0.24264705882352944, lift=4.090102445472572)]),\n",
              " RelationRecord(items=frozenset({' honey               ', 'fresh tuna          '}), support=0.003332888948140248, ordered_statistics=[OrderedStatistic(items_base=frozenset({'fresh tuna          '}), items_add=frozenset({' honey               '}), confidence=0.20161290322580647, lift=6.435312285518188)]),\n",
              " RelationRecord(items=frozenset({' olive oil           ', ' light cream         '}), support=0.0029329422743634183, ordered_statistics=[OrderedStatistic(items_base=frozenset({' light cream         '}), items_add=frozenset({' olive oil           '}), confidence=0.21782178217821782, lift=4.288402068553312)]),\n",
              " RelationRecord(items=frozenset({' milk                ', ' meatballs           '}), support=0.004666044527396347, ordered_statistics=[OrderedStatistic(items_base=frozenset({' meatballs           '}), items_add=frozenset({' milk                '}), confidence=0.30701754385964913, lift=3.176467029643073)]),\n",
              " RelationRecord(items=frozenset({' milk                ', ' olive oil           '}), support=0.015197973603519531, ordered_statistics=[OrderedStatistic(items_base=frozenset({' olive oil           '}), items_add=frozenset({' milk                '}), confidence=0.2992125984251969, lift=3.095715449361933)]),\n",
              " RelationRecord(items=frozenset({' shrimp              ', ' milk                '}), support=0.008665511265164644, ordered_statistics=[OrderedStatistic(items_base=frozenset({' shrimp              '}), items_add=frozenset({' milk                '}), confidence=0.31400966183574874, lift=3.248808928868898)]),\n",
              " RelationRecord(items=frozenset({' soup                ', ' milk                '}), support=0.012531662445007332, ordered_statistics=[OrderedStatistic(items_base=frozenset({' soup                '}), items_add=frozenset({' milk                '}), confidence=0.32525951557093424, lift=3.3652022431690725)]),\n",
              " RelationRecord(items=frozenset({' whole wheat pasta   ', ' milk                '}), support=0.005599253432875617, ordered_statistics=[OrderedStatistic(items_base=frozenset({' whole wheat pasta   '}), items_add=frozenset({' milk                '}), confidence=0.3387096774193548, lift=3.5043604004449382)]),\n",
              " RelationRecord(items=frozenset({'whole wheat pasta   ', ' milk                '}), support=0.0035995200639914677, ordered_statistics=[OrderedStatistic(items_base=frozenset({'whole wheat pasta   '}), items_add=frozenset({' milk                '}), confidence=0.3068181818181818, lift=3.1744043887147333)]),\n",
              " RelationRecord(items=frozenset({' nonfat milk         ', ' mineral water       '}), support=0.004266097853619517, ordered_statistics=[OrderedStatistic(items_base=frozenset({' nonfat milk         '}), items_add=frozenset({' mineral water       '}), confidence=0.5333333333333332, lift=3.5061641834647963)]),\n",
              " RelationRecord(items=frozenset({' mineral water       ', ' red wine            '}), support=0.005332622317024397, ordered_statistics=[OrderedStatistic(items_base=frozenset({' red wine            '}), items_add=frozenset({' mineral water       '}), confidence=0.47619047619047616, lift=3.130503735236426)]),\n",
              " RelationRecord(items=frozenset({' soup                ', ' mineral water       '}), support=0.018130915877882948, ordered_statistics=[OrderedStatistic(items_base=frozenset({' soup                '}), items_add=frozenset({' mineral water       '}), confidence=0.47058823529411764, lift=3.093674279527762)]),\n",
              " RelationRecord(items=frozenset({' spaghetti           ', ' olive oil           '}), support=0.018264231435808558, ordered_statistics=[OrderedStatistic(items_base=frozenset({' olive oil           '}), items_add=frozenset({' spaghetti           '}), confidence=0.3595800524934383, lift=3.037398619091532)]),\n",
              " RelationRecord(items=frozenset({' whole wheat pasta   ', ' olive oil           '}), support=0.0037328356219170776, ordered_statistics=[OrderedStatistic(items_base=frozenset({' whole wheat pasta   '}), items_add=frozenset({' olive oil           '}), confidence=0.22580645161290322, lift=4.445601557869782)]),\n",
              " RelationRecord(items=frozenset({'whole wheat pasta   ', ' olive oil           '}), support=0.0027996267164378083, ordered_statistics=[OrderedStatistic(items_base=frozenset({'whole wheat pasta   '}), items_add=frozenset({' olive oil           '}), confidence=0.23863636363636365, lift=4.69819255547602)]),\n",
              " RelationRecord(items=frozenset({'fresh tuna          ', ' pancakes            '}), support=0.003332888948140248, ordered_statistics=[OrderedStatistic(items_base=frozenset({'fresh tuna          '}), items_add=frozenset({' pancakes            '}), confidence=0.20161290322580647, lift=3.2108246010547226)]),\n",
              " RelationRecord(items=frozenset({' spaghetti           ', ' parmesan cheese     '}), support=0.005199306759098787, ordered_statistics=[OrderedStatistic(items_base=frozenset({' parmesan cheese     '}), items_add=frozenset({' spaghetti           '}), confidence=0.4193548387096775, lift=3.542320546352805)]),\n",
              " RelationRecord(items=frozenset({' spaghetti           ', ' pepper              '}), support=0.007465671243834155, ordered_statistics=[OrderedStatistic(items_base=frozenset({' pepper              '}), items_add=frozenset({' spaghetti           '}), confidence=0.41481481481481486, lift=3.5039706373039707)]),\n",
              " RelationRecord(items=frozenset({' pepper              ', 'turkey              '}), support=0.0035995200639914677, ordered_statistics=[OrderedStatistic(items_base=frozenset({' pepper              '}), items_add=frozenset({'turkey              '}), confidence=0.2, lift=3.3712359550561803)]),\n",
              " RelationRecord(items=frozenset({' spaghetti           ', ' red wine            '}), support=0.005065991201173177, ordered_statistics=[OrderedStatistic(items_base=frozenset({' red wine            '}), items_add=frozenset({' spaghetti           '}), confidence=0.4523809523809524, lift=3.8212945087945087)]),\n",
              " RelationRecord(items=frozenset({'burgers             ', ' red wine            '}), support=0.003332888948140248, ordered_statistics=[OrderedStatistic(items_base=frozenset({' red wine            '}), items_add=frozenset({'burgers             '}), confidence=0.2976190476190476, lift=4.015180712572799)]),\n",
              " RelationRecord(items=frozenset({' shrimp              ', 'burgers             '}), support=0.007465671243834155, ordered_statistics=[OrderedStatistic(items_base=frozenset({' shrimp              '}), items_add=frozenset({'burgers             '}), confidence=0.27053140096618356, lift=3.649741076703854)]),\n",
              " RelationRecord(items=frozenset({' shrimp              ', 'turkey              '}), support=0.005732568990801226, ordered_statistics=[OrderedStatistic(items_base=frozenset({' shrimp              '}), items_add=frozenset({'turkey              '}), confidence=0.2077294685990338, lift=3.501525267328882)]),\n",
              " RelationRecord(items=frozenset({' spaghetti           ', ' tomato sauce        '}), support=0.005465937874950006, ordered_statistics=[OrderedStatistic(items_base=frozenset({' tomato sauce        '}), items_add=frozenset({' spaghetti           '}), confidence=0.5061728395061728, lift=4.275678456234011)]),\n",
              " RelationRecord(items=frozenset({' spaghetti           ', ' tomatoes            '}), support=0.014664711371817091, ordered_statistics=[OrderedStatistic(items_base=frozenset({' tomatoes            '}), items_add=frozenset({' spaghetti           '}), confidence=0.3806228373702422, lift=3.215148539543003)])]"
            ]
          },
          "execution_count": 22,
          "metadata": {},
          "output_type": "execute_result"
        }
      ],
      "source": [
        "results"
      ]
    },
    {
      "cell_type": "markdown",
      "metadata": {
        "colab_type": "text",
        "id": "MFkQP-fcjDBC"
      },
      "source": [
        "### Putting the results well organised into a Pandas DataFrame"
      ]
    },
    {
      "cell_type": "code",
      "execution_count": 23,
      "metadata": {
        "colab": {},
        "colab_type": "code",
        "id": "gyq7Poi0mMUe"
      },
      "outputs": [],
      "source": [
        "def inspect(results):\n",
        "    lhs         = [tuple(result[2][0][0])[0] for result in results]\n",
        "    rhs         = [tuple(result[2][0][1])[0] for result in results]\n",
        "    supports    = [result[1] for result in results]\n",
        "    return list(zip(lhs, rhs, supports))\n",
        "resultsinDataFrame = pd.DataFrame(inspect(results), columns = ['Product 1', 'Product 2', 'Support'])"
      ]
    },
    {
      "cell_type": "markdown",
      "metadata": {
        "colab_type": "text",
        "id": "IjrrlYW4jpTR"
      },
      "source": [
        "### Displaying the results sorted by descending supports"
      ]
    },
    {
      "cell_type": "code",
      "execution_count": 24,
      "metadata": {
        "colab": {
          "base_uri": "https://localhost:8080/",
          "height": 326
        },
        "colab_type": "code",
        "id": "nI7DJXng-nxQ",
        "outputId": "63b4b5d1-9d4d-43a0-ded4-6ee4de2f4854"
      },
      "outputs": [
        {
          "data": {
            "text/html": [
              "<div>\n",
              "<style scoped>\n",
              "    .dataframe tbody tr th:only-of-type {\n",
              "        vertical-align: middle;\n",
              "    }\n",
              "\n",
              "    .dataframe tbody tr th {\n",
              "        vertical-align: top;\n",
              "    }\n",
              "\n",
              "    .dataframe thead th {\n",
              "        text-align: right;\n",
              "    }\n",
              "</style>\n",
              "<table border=\"1\" class=\"dataframe\">\n",
              "  <thead>\n",
              "    <tr style=\"text-align: right;\">\n",
              "      <th></th>\n",
              "      <th>Product 1</th>\n",
              "      <th>Product 2</th>\n",
              "      <th>Support</th>\n",
              "    </tr>\n",
              "  </thead>\n",
              "  <tbody>\n",
              "    <tr>\n",
              "      <th>43</th>\n",
              "      <td>ground beef</td>\n",
              "      <td>spaghetti</td>\n",
              "      <td>0.028396</td>\n",
              "    </tr>\n",
              "    <tr>\n",
              "      <th>66</th>\n",
              "      <td>olive oil</td>\n",
              "      <td>spaghetti</td>\n",
              "      <td>0.018264</td>\n",
              "    </tr>\n",
              "    <tr>\n",
              "      <th>65</th>\n",
              "      <td>soup</td>\n",
              "      <td>mineral water</td>\n",
              "      <td>0.018131</td>\n",
              "    </tr>\n",
              "    <tr>\n",
              "      <th>58</th>\n",
              "      <td>olive oil</td>\n",
              "      <td>milk</td>\n",
              "      <td>0.015198</td>\n",
              "    </tr>\n",
              "    <tr>\n",
              "      <th>78</th>\n",
              "      <td>tomatoes</td>\n",
              "      <td>spaghetti</td>\n",
              "      <td>0.014665</td>\n",
              "    </tr>\n",
              "    <tr>\n",
              "      <th>60</th>\n",
              "      <td>soup</td>\n",
              "      <td>milk</td>\n",
              "      <td>0.012532</td>\n",
              "    </tr>\n",
              "    <tr>\n",
              "      <th>38</th>\n",
              "      <td>olive oil</td>\n",
              "      <td>ground beef</td>\n",
              "      <td>0.010665</td>\n",
              "    </tr>\n",
              "    <tr>\n",
              "      <th>24</th>\n",
              "      <td>frozen vegetables</td>\n",
              "      <td>ground beef</td>\n",
              "      <td>0.010265</td>\n",
              "    </tr>\n",
              "    <tr>\n",
              "      <th>28</th>\n",
              "      <td>frozen vegetables</td>\n",
              "      <td>shrimp</td>\n",
              "      <td>0.010132</td>\n",
              "    </tr>\n",
              "    <tr>\n",
              "      <th>3</th>\n",
              "      <td>burgers</td>\n",
              "      <td>turkey</td>\n",
              "      <td>0.009732</td>\n",
              "    </tr>\n",
              "  </tbody>\n",
              "</table>\n",
              "</div>"
            ],
            "text/plain": [
              "                Product 1              Product 2   Support\n",
              "43   ground beef            spaghetti             0.028396\n",
              "66   olive oil              spaghetti             0.018264\n",
              "65   soup                   mineral water         0.018131\n",
              "58   olive oil              milk                  0.015198\n",
              "78   tomatoes               spaghetti             0.014665\n",
              "60   soup                   milk                  0.012532\n",
              "38   olive oil              ground beef           0.010665\n",
              "24   frozen vegetables      ground beef           0.010265\n",
              "28   frozen vegetables      shrimp                0.010132\n",
              "3    burgers                turkey                0.009732"
            ]
          },
          "execution_count": 24,
          "metadata": {},
          "output_type": "execute_result"
        }
      ],
      "source": [
        "resultsinDataFrame.nlargest(n = 10, columns = 'Support')"
      ]
    }
  ],
  "metadata": {
    "colab": {
      "collapsed_sections": [],
      "name": "eclat.ipynb",
      "provenance": [],
      "toc_visible": true
    },
    "kernelspec": {
      "display_name": "ML_BASICS",
      "language": "python",
      "name": "python3"
    },
    "language_info": {
      "codemirror_mode": {
        "name": "ipython",
        "version": 3
      },
      "file_extension": ".py",
      "mimetype": "text/x-python",
      "name": "python",
      "nbconvert_exporter": "python",
      "pygments_lexer": "ipython3",
      "version": "3.11.11"
    }
  },
  "nbformat": 4,
  "nbformat_minor": 0
}
