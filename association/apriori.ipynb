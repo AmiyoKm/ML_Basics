{
  "cells": [
    {
      "cell_type": "markdown",
      "metadata": {
        "colab_type": "text",
        "id": "1fziHl7Ar94J"
      },
      "source": [
        "# Apriori"
      ]
    },
    {
      "cell_type": "markdown",
      "metadata": {
        "colab_type": "text",
        "id": "eiNwni1xsEgT"
      },
      "source": [
        "## Importing the libraries"
      ]
    },
    {
      "cell_type": "code",
      "execution_count": 68,
      "metadata": {
        "colab": {
          "base_uri": "https://localhost:8080/",
          "height": 34
        },
        "colab_type": "code",
        "id": "DUF77Qr1vqyM",
        "outputId": "c4c2d702-9e4b-414c-bb3e-caa543b487f0"
      },
      "outputs": [
        {
          "name": "stdout",
          "output_type": "stream",
          "text": [
            "Requirement already satisfied: apyori in /home/amiyo/anaconda3/envs/ML_BASICS/lib/python3.11/site-packages (1.1.2)\n",
            "Note: you may need to restart the kernel to use updated packages.\n"
          ]
        }
      ],
      "source": [
        "%pip install apyori"
      ]
    },
    {
      "cell_type": "code",
      "execution_count": 69,
      "metadata": {
        "colab": {},
        "colab_type": "code",
        "id": "UJfitBClsJlT"
      },
      "outputs": [],
      "source": [
        "import numpy as np\n",
        "import matplotlib.pyplot as plt\n",
        "import pandas as pd"
      ]
    },
    {
      "cell_type": "markdown",
      "metadata": {
        "colab_type": "text",
        "id": "vLt-7XUKsXBd"
      },
      "source": [
        "## Data Preprocessing"
      ]
    },
    {
      "cell_type": "code",
      "execution_count": 70,
      "metadata": {},
      "outputs": [],
      "source": [
        "dataset = pd.read_csv(\"Market_Basket_Optimisation.csv\", header=None)\n",
        "transactions = []\n",
        "\n",
        "\n",
        "for i in range(dataset.shape[0]):\n",
        "    transactions.append([str(dataset.values[i, j]) for j in range(20)])"
      ]
    },
    {
      "cell_type": "markdown",
      "metadata": {
        "colab_type": "text",
        "id": "1wYZdBd5sea_"
      },
      "source": [
        "## Training the Apriori model on the dataset"
      ]
    },
    {
      "cell_type": "code",
      "execution_count": 71,
      "metadata": {},
      "outputs": [],
      "source": [
        "from apyori import apriori\n",
        "\n",
        "rules = apriori(\n",
        "    transactions=transactions,\n",
        "    min_support=(3 * 7 / dataset.shape[0]),\n",
        "    min_confidence=0.2,\n",
        "    min_lift=3,\n",
        "    min_length=2,\n",
        "    max_length=2,\n",
        ")"
      ]
    },
    {
      "cell_type": "markdown",
      "metadata": {
        "colab_type": "text",
        "id": "b176YNwWspiO"
      },
      "source": [
        "## Visualising the results"
      ]
    },
    {
      "cell_type": "code",
      "execution_count": 72,
      "metadata": {},
      "outputs": [
        {
          "data": {
            "text/plain": [
              "[RelationRecord(items=frozenset({' almonds             ', 'burgers             '}), support=0.004266097853619517, ordered_statistics=[OrderedStatistic(items_base=frozenset({' almonds             '}), items_add=frozenset({'burgers             '}), confidence=0.24427480916030533, lift=3.295513207754407)]),\n",
              " RelationRecord(items=frozenset({' spaghetti           ', ' bacon               '}), support=0.0029329422743634183, ordered_statistics=[OrderedStatistic(items_base=frozenset({' bacon               '}), items_add=frozenset({' spaghetti           '}), confidence=0.38596491228070173, lift=3.2602734313260626)]),\n",
              " RelationRecord(items=frozenset({' black tea           ', ' milk                '}), support=0.0037328356219170776, ordered_statistics=[OrderedStatistic(items_base=frozenset({' black tea           '}), items_add=frozenset({' milk                '}), confidence=0.3111111111111111, lift=3.2188199233716475)]),\n",
              " RelationRecord(items=frozenset({'turkey              ', ' burgers             '}), support=0.009732035728569524, ordered_statistics=[OrderedStatistic(items_base=frozenset({' burgers             '}), items_add=frozenset({'turkey              '}), confidence=0.948051948051948, lift=15.980534072668904)]),\n",
              " RelationRecord(items=frozenset({' cereals             ', ' milk                '}), support=0.005465937874950006, ordered_statistics=[OrderedStatistic(items_base=frozenset({' cereals             '}), items_add=frozenset({' milk                '}), confidence=0.3203125, lift=3.314019396551724)]),\n",
              " RelationRecord(items=frozenset({' extra dark chocolate', ' chicken             '}), support=0.0027996267164378083, ordered_statistics=[OrderedStatistic(items_base=frozenset({' extra dark chocolate'}), items_add=frozenset({' chicken             '}), confidence=0.25609756097560976, lift=5.220075556733828)]),\n",
              " RelationRecord(items=frozenset({' light cream         ', ' chicken             '}), support=0.0035995200639914677, ordered_statistics=[OrderedStatistic(items_base=frozenset({' light cream         '}), items_add=frozenset({' chicken             '}), confidence=0.26732673267326734, lift=5.44896147223418)]),\n",
              " RelationRecord(items=frozenset({' chicken             ', ' meatballs           '}), support=0.0030662578322890282, ordered_statistics=[OrderedStatistic(items_base=frozenset({' meatballs           '}), items_add=frozenset({' chicken             '}), confidence=0.20175438596491227, lift=4.112390350877193)]),\n",
              " RelationRecord(items=frozenset({' ham                 ', ' chocolate           '}), support=0.0027996267164378083, ordered_statistics=[OrderedStatistic(items_base=frozenset({' ham                 '}), items_add=frozenset({' chocolate           '}), confidence=0.28378378378378377, lift=3.0939857008170963)]),\n",
              " RelationRecord(items=frozenset({' eggs                ', ' cider               '}), support=0.0029329422743634183, ordered_statistics=[OrderedStatistic(items_base=frozenset({' cider               '}), items_add=frozenset({' eggs                '}), confidence=0.34375000000000006, lift=3.008714994165695)]),\n",
              " RelationRecord(items=frozenset({' milk                ', ' cider               '}), support=0.0029329422743634183, ordered_statistics=[OrderedStatistic(items_base=frozenset({' cider               '}), items_add=frozenset({' milk                '}), confidence=0.34375000000000006, lift=3.5565086206896557)]),\n",
              " RelationRecord(items=frozenset({' french fries        ', ' cookies             '}), support=0.007865617917610986, ordered_statistics=[OrderedStatistic(items_base=frozenset({' cookies             '}), items_add=frozenset({' french fries        '}), confidence=0.3259668508287293, lift=3.5333487688819343)]),\n",
              " RelationRecord(items=frozenset({' cookies             ', ' green tea'}), support=0.007998933475536596, ordered_statistics=[OrderedStatistic(items_base=frozenset({' cookies             '}), items_add=frozenset({' green tea'}), confidence=0.33149171270718236, lift=3.521982063762854)]),\n",
              " RelationRecord(items=frozenset({' green tea', ' energy drink        '}), support=0.0027996267164378083, ordered_statistics=[OrderedStatistic(items_base=frozenset({' energy drink        '}), items_add=frozenset({' green tea'}), confidence=0.3333333333333333, lift=3.541548630783758)]),\n",
              " RelationRecord(items=frozenset({' escalope            ', ' mushroom cream sauce'}), support=0.004532728969470737, ordered_statistics=[OrderedStatistic(items_base=frozenset({' mushroom cream sauce'}), items_add=frozenset({' escalope            '}), confidence=0.25, lift=7.685450819672131)]),\n",
              " RelationRecord(items=frozenset({' french fries        ', ' hot dogs            '}), support=0.004799360085321957, ordered_statistics=[OrderedStatistic(items_base=frozenset({' hot dogs            '}), items_add=frozenset({' french fries        '}), confidence=0.27692307692307694, lift=3.001734104046243)]),\n",
              " RelationRecord(items=frozenset({' light mayo          ', ' french fries        '}), support=0.0029329422743634183, ordered_statistics=[OrderedStatistic(items_base=frozenset({' light mayo          '}), items_add=frozenset({' french fries        '}), confidence=0.3333333333333333, lift=3.613198458574181)]),\n",
              " RelationRecord(items=frozenset({' french fries        ', ' strawberries        '}), support=0.0030662578322890282, ordered_statistics=[OrderedStatistic(items_base=frozenset({' strawberries        '}), items_add=frozenset({' french fries        '}), confidence=0.32394366197183094, lift=3.5114182203044857)]),\n",
              " RelationRecord(items=frozenset({' tomato juice        ', ' fresh bread'}), support=0.0027996267164378083, ordered_statistics=[OrderedStatistic(items_base=frozenset({' tomato juice        '}), items_add=frozenset({' fresh bread'}), confidence=0.21, lift=7.95560606060606)]),\n",
              " RelationRecord(items=frozenset({' fresh bread         ', ' green tea'}), support=0.004799360085321957, ordered_statistics=[OrderedStatistic(items_base=frozenset({' fresh bread         '}), items_add=frozenset({' green tea'}), confidence=0.33027522935779813, lift=3.509057358941705)]),\n",
              " RelationRecord(items=frozenset({' fresh bread         ', ' low fat yogurt'}), support=0.0035995200639914677, ordered_statistics=[OrderedStatistic(items_base=frozenset({' fresh bread         '}), items_add=frozenset({' low fat yogurt'}), confidence=0.2477064220183486, lift=3.9701834862385317)]),\n",
              " RelationRecord(items=frozenset({' fresh tuna          ', 'burgers             '}), support=0.0030662578322890282, ordered_statistics=[OrderedStatistic(items_base=frozenset({' fresh tuna          '}), items_add=frozenset({'burgers             '}), confidence=0.6052631578947368, lift=8.165609617569102)]),\n",
              " RelationRecord(items=frozenset({' fromage blanc       ', ' honey               '}), support=0.0030662578322890282, ordered_statistics=[OrderedStatistic(items_base=frozenset({' fromage blanc       '}), items_add=frozenset({' honey               '}), confidence=0.27380952380952384, lift=8.739766970618035)]),\n",
              " RelationRecord(items=frozenset({' frozen smoothie     ', ' hot dogs            '}), support=0.0035995200639914677, ordered_statistics=[OrderedStatistic(items_base=frozenset({' hot dogs            '}), items_add=frozenset({' frozen smoothie     '}), confidence=0.2076923076923077, lift=5.263175675675676)]),\n",
              " RelationRecord(items=frozenset({' frozen vegetables   ', ' ground beef         '}), support=0.010265297960271964, ordered_statistics=[OrderedStatistic(items_base=frozenset({' frozen vegetables   '}), items_add=frozenset({' ground beef         '}), confidence=0.22985074626865673, lift=3.393918204254319)]),\n",
              " RelationRecord(items=frozenset({' frozen vegetables   ', ' parmesan cheese     '}), support=0.0030662578322890282, ordered_statistics=[OrderedStatistic(items_base=frozenset({' parmesan cheese     '}), items_add=frozenset({' frozen vegetables   '}), confidence=0.24731182795698928, lift=5.537570213448885)]),\n",
              " RelationRecord(items=frozenset({' frozen vegetables   ', ' shrimp              '}), support=0.006265831222503666, ordered_statistics=[OrderedStatistic(items_base=frozenset({' shrimp              '}), items_add=frozenset({' frozen vegetables   '}), confidence=0.22705314009661834, lift=5.083957026461893)]),\n",
              " RelationRecord(items=frozenset({' tomatoes            ', ' frozen vegetables   '}), support=0.008932142381015865, ordered_statistics=[OrderedStatistic(items_base=frozenset({' frozen vegetables   '}), items_add=frozenset({' tomatoes            '}), confidence=0.2, lift=5.191003460207613), OrderedStatistic(items_base=frozenset({' tomatoes            '}), items_add=frozenset({' frozen vegetables   '}), confidence=0.2318339100346021, lift=5.191003460207613)]),\n",
              " RelationRecord(items=frozenset({' frozen vegetables   ', 'shrimp              '}), support=0.010131982402346354, ordered_statistics=[OrderedStatistic(items_base=frozenset({' frozen vegetables   '}), items_add=frozenset({'shrimp              '}), confidence=0.22686567164179103, lift=5.47176656908384), OrderedStatistic(items_base=frozenset({'shrimp              '}), items_add=frozenset({' frozen vegetables   '}), confidence=0.24437299035369772, lift=5.471766569083841)]),\n",
              " RelationRecord(items=frozenset({' grated cheese       ', ' ground beef         '}), support=0.003332888948140248, ordered_statistics=[OrderedStatistic(items_base=frozenset({' grated cheese       '}), items_add=frozenset({' ground beef         '}), confidence=0.25252525252525254, lift=3.7287242503777938)]),\n",
              " RelationRecord(items=frozenset({' grated cheese       ', ' spaghetti           '}), support=0.005465937874950006, ordered_statistics=[OrderedStatistic(items_base=frozenset({' grated cheese       '}), items_add=frozenset({' spaghetti           '}), confidence=0.4141414141414141, lift=3.4982823732823727)]),\n",
              " RelationRecord(items=frozenset({' grated cheese       ', 'burgers             '}), support=0.004266097853619517, ordered_statistics=[OrderedStatistic(items_base=frozenset({' grated cheese       '}), items_add=frozenset({'burgers             '}), confidence=0.3232323232323232, lift=4.360729598139669)]),\n",
              " RelationRecord(items=frozenset({' grated cheese       ', 'turkey              '}), support=0.004932675643247567, ordered_statistics=[OrderedStatistic(items_base=frozenset({' grated cheese       '}), items_add=frozenset({'turkey              '}), confidence=0.37373737373737376, lift=6.299784360458519)]),\n",
              " RelationRecord(items=frozenset({' light mayo          ', ' green tea'}), support=0.003332888948140248, ordered_statistics=[OrderedStatistic(items_base=frozenset({' light mayo          '}), items_add=frozenset({' green tea'}), confidence=0.3787878787878788, lift=4.024487080436089)]),\n",
              " RelationRecord(items=frozenset({' low fat yogurt      ', ' green tea'}), support=0.004532728969470737, ordered_statistics=[OrderedStatistic(items_base=frozenset({' low fat yogurt      '}), items_add=frozenset({' green tea'}), confidence=0.5762711864406779, lift=6.122677293897343)]),\n",
              " RelationRecord(items=frozenset({' tomato juice        ', ' green tea'}), support=0.0038661511798426876, ordered_statistics=[OrderedStatistic(items_base=frozenset({' tomato juice        '}), items_add=frozenset({' green tea'}), confidence=0.29, lift=3.0811473087818695)]),\n",
              " RelationRecord(items=frozenset({' yogurt cake         ', ' green tea'}), support=0.0034662045060658577, ordered_statistics=[OrderedStatistic(items_base=frozenset({' yogurt cake         '}), items_add=frozenset({' green tea'}), confidence=0.3714285714285714, lift=3.9462970457304727)]),\n",
              " RelationRecord(items=frozenset({' ground beef         ', ' herb & pepper       '}), support=0.005865884548726837, ordered_statistics=[OrderedStatistic(items_base=frozenset({' herb & pepper       '}), items_add=frozenset({' ground beef         '}), confidence=0.3235294117647059, lift=4.777153774895785)]),\n",
              " RelationRecord(items=frozenset({' ground beef         ', ' olive oil           '}), support=0.010665244634048793, ordered_statistics=[OrderedStatistic(items_base=frozenset({' olive oil           '}), items_add=frozenset({' ground beef         '}), confidence=0.2099737532808399, lift=3.1004195341724015)]),\n",
              " RelationRecord(items=frozenset({' ground beef         ', ' pepper              '}), support=0.004399413411545127, ordered_statistics=[OrderedStatistic(items_base=frozenset({' pepper              '}), items_add=frozenset({' ground beef         '}), confidence=0.24444444444444446, lift=3.6094050743657045)]),\n",
              " RelationRecord(items=frozenset({' rice                ', ' ground beef         '}), support=0.003999466737768298, ordered_statistics=[OrderedStatistic(items_base=frozenset({' rice                '}), items_add=frozenset({' ground beef         '}), confidence=0.24590163934426235, lift=3.6309216470891963)]),\n",
              " RelationRecord(items=frozenset({' ground beef         ', ' shrimp              '}), support=0.0061325156645780565, ordered_statistics=[OrderedStatistic(items_base=frozenset({' shrimp              '}), items_add=frozenset({' ground beef         '}), confidence=0.2222222222222222, lift=3.281277340332458)]),\n",
              " RelationRecord(items=frozenset({' soup                ', ' ground beef         '}), support=0.007998933475536596, ordered_statistics=[OrderedStatistic(items_base=frozenset({' soup                '}), items_add=frozenset({' ground beef         '}), confidence=0.20761245674740486, lift=3.0655532245320547)]),\n",
              " RelationRecord(items=frozenset({' ground beef         ', ' spaghetti           '}), support=0.028396213838154914, ordered_statistics=[OrderedStatistic(items_base=frozenset({' ground beef         '}), items_add=frozenset({' spaghetti           '}), confidence=0.41929133858267714, lift=3.5417841562034473), OrderedStatistic(items_base=frozenset({' spaghetti           '}), items_add=frozenset({' ground beef         '}), confidence=0.23986486486486486, lift=3.5417841562034473)]),\n",
              " RelationRecord(items=frozenset({' ground beef         ', ' tomato sauce        '}), support=0.0035995200639914677, ordered_statistics=[OrderedStatistic(items_base=frozenset({' tomato sauce        '}), items_add=frozenset({' ground beef         '}), confidence=0.3333333333333333, lift=4.921916010498687)]),\n",
              " RelationRecord(items=frozenset({' tomatoes            ', ' ground beef         '}), support=0.008132249033462205, ordered_statistics=[OrderedStatistic(items_base=frozenset({' tomatoes            '}), items_add=frozenset({' ground beef         '}), confidence=0.21107266435986158, lift=3.116645778274255)]),\n",
              " RelationRecord(items=frozenset({' ground beef         ', 'grated cheese       '}), support=0.007732302359685375, ordered_statistics=[OrderedStatistic(items_base=frozenset({'grated cheese       '}), items_add=frozenset({' ground beef         '}), confidence=0.21323529411764708, lift=3.148578624363131)]),\n",
              " RelationRecord(items=frozenset({' ground beef         ', 'ham                 '}), support=0.0034662045060658577, ordered_statistics=[OrderedStatistic(items_base=frozenset({'ham                 '}), items_add=frozenset({' ground beef         '}), confidence=0.2222222222222222, lift=3.281277340332458)]),\n",
              " RelationRecord(items=frozenset({' ground beef         ', 'herb & pepper       '}), support=0.009732035728569524, ordered_statistics=[OrderedStatistic(items_base=frozenset({'herb & pepper       '}), items_add=frozenset({' ground beef         '}), confidence=0.3459715639810427, lift=5.108528939806694)]),\n",
              " RelationRecord(items=frozenset({' ground beef         ', 'red wine            '}), support=0.0030662578322890282, ordered_statistics=[OrderedStatistic(items_base=frozenset({'red wine            '}), items_add=frozenset({' ground beef         '}), confidence=0.20353982300884957, lift=3.0054177409239773)]),\n",
              " RelationRecord(items=frozenset({' ham                 ', 'burgers             '}), support=0.004799360085321957, ordered_statistics=[OrderedStatistic(items_base=frozenset({' ham                 '}), items_add=frozenset({'burgers             '}), confidence=0.48648648648648646, lift=6.563192689091969)]),\n",
              " RelationRecord(items=frozenset({'turkey              ', ' ham                 '}), support=0.0027996267164378083, ordered_statistics=[OrderedStatistic(items_base=frozenset({' ham                 '}), items_add=frozenset({'turkey              '}), confidence=0.28378378378378377, lift=4.783510476768904)]),\n",
              " RelationRecord(items=frozenset({' spaghetti           ', ' herb & pepper       '}), support=0.007332355685908546, ordered_statistics=[OrderedStatistic(items_base=frozenset({' herb & pepper       '}), items_add=frozenset({' spaghetti           '}), confidence=0.4044117647058824, lift=3.4160953232644413)]),\n",
              " RelationRecord(items=frozenset({'grated cheese       ', ' herb & pepper       '}), support=0.004266097853619517, ordered_statistics=[OrderedStatistic(items_base=frozenset({' herb & pepper       '}), items_add=frozenset({'grated cheese       '}), confidence=0.23529411764705882, lift=6.4887543252595155)]),\n",
              " RelationRecord(items=frozenset({'turkey              ', ' herb & pepper       '}), support=0.004399413411545127, ordered_statistics=[OrderedStatistic(items_base=frozenset({' herb & pepper       '}), items_add=frozenset({'turkey              '}), confidence=0.24264705882352944, lift=4.090102445472572)]),\n",
              " RelationRecord(items=frozenset({'fresh tuna          ', ' honey               '}), support=0.003332888948140248, ordered_statistics=[OrderedStatistic(items_base=frozenset({'fresh tuna          '}), items_add=frozenset({' honey               '}), confidence=0.20161290322580647, lift=6.435312285518188)]),\n",
              " RelationRecord(items=frozenset({' light cream         ', ' olive oil           '}), support=0.0029329422743634183, ordered_statistics=[OrderedStatistic(items_base=frozenset({' light cream         '}), items_add=frozenset({' olive oil           '}), confidence=0.21782178217821782, lift=4.288402068553312)]),\n",
              " RelationRecord(items=frozenset({' meatballs           ', ' milk                '}), support=0.004666044527396347, ordered_statistics=[OrderedStatistic(items_base=frozenset({' meatballs           '}), items_add=frozenset({' milk                '}), confidence=0.30701754385964913, lift=3.176467029643073)]),\n",
              " RelationRecord(items=frozenset({' olive oil           ', ' milk                '}), support=0.015197973603519531, ordered_statistics=[OrderedStatistic(items_base=frozenset({' olive oil           '}), items_add=frozenset({' milk                '}), confidence=0.2992125984251969, lift=3.095715449361933)]),\n",
              " RelationRecord(items=frozenset({' shrimp              ', ' milk                '}), support=0.008665511265164644, ordered_statistics=[OrderedStatistic(items_base=frozenset({' shrimp              '}), items_add=frozenset({' milk                '}), confidence=0.31400966183574874, lift=3.248808928868898)]),\n",
              " RelationRecord(items=frozenset({' soup                ', ' milk                '}), support=0.012531662445007332, ordered_statistics=[OrderedStatistic(items_base=frozenset({' soup                '}), items_add=frozenset({' milk                '}), confidence=0.32525951557093424, lift=3.3652022431690725)]),\n",
              " RelationRecord(items=frozenset({' whole wheat pasta   ', ' milk                '}), support=0.005599253432875617, ordered_statistics=[OrderedStatistic(items_base=frozenset({' whole wheat pasta   '}), items_add=frozenset({' milk                '}), confidence=0.3387096774193548, lift=3.5043604004449382)]),\n",
              " RelationRecord(items=frozenset({'whole wheat pasta   ', ' milk                '}), support=0.0035995200639914677, ordered_statistics=[OrderedStatistic(items_base=frozenset({'whole wheat pasta   '}), items_add=frozenset({' milk                '}), confidence=0.3068181818181818, lift=3.1744043887147333)]),\n",
              " RelationRecord(items=frozenset({' nonfat milk         ', ' mineral water       '}), support=0.004266097853619517, ordered_statistics=[OrderedStatistic(items_base=frozenset({' nonfat milk         '}), items_add=frozenset({' mineral water       '}), confidence=0.5333333333333332, lift=3.5061641834647963)]),\n",
              " RelationRecord(items=frozenset({' mineral water       ', ' red wine            '}), support=0.005332622317024397, ordered_statistics=[OrderedStatistic(items_base=frozenset({' red wine            '}), items_add=frozenset({' mineral water       '}), confidence=0.47619047619047616, lift=3.130503735236426)]),\n",
              " RelationRecord(items=frozenset({' soup                ', ' mineral water       '}), support=0.018130915877882948, ordered_statistics=[OrderedStatistic(items_base=frozenset({' soup                '}), items_add=frozenset({' mineral water       '}), confidence=0.47058823529411764, lift=3.093674279527762)]),\n",
              " RelationRecord(items=frozenset({' olive oil           ', ' spaghetti           '}), support=0.018264231435808558, ordered_statistics=[OrderedStatistic(items_base=frozenset({' olive oil           '}), items_add=frozenset({' spaghetti           '}), confidence=0.3595800524934383, lift=3.037398619091532)]),\n",
              " RelationRecord(items=frozenset({' olive oil           ', ' whole wheat pasta   '}), support=0.0037328356219170776, ordered_statistics=[OrderedStatistic(items_base=frozenset({' whole wheat pasta   '}), items_add=frozenset({' olive oil           '}), confidence=0.22580645161290322, lift=4.445601557869782)]),\n",
              " RelationRecord(items=frozenset({'whole wheat pasta   ', ' olive oil           '}), support=0.0027996267164378083, ordered_statistics=[OrderedStatistic(items_base=frozenset({'whole wheat pasta   '}), items_add=frozenset({' olive oil           '}), confidence=0.23863636363636365, lift=4.69819255547602)]),\n",
              " RelationRecord(items=frozenset({'fresh tuna          ', ' pancakes            '}), support=0.003332888948140248, ordered_statistics=[OrderedStatistic(items_base=frozenset({'fresh tuna          '}), items_add=frozenset({' pancakes            '}), confidence=0.20161290322580647, lift=3.2108246010547226)]),\n",
              " RelationRecord(items=frozenset({' spaghetti           ', ' parmesan cheese     '}), support=0.005199306759098787, ordered_statistics=[OrderedStatistic(items_base=frozenset({' parmesan cheese     '}), items_add=frozenset({' spaghetti           '}), confidence=0.4193548387096775, lift=3.542320546352805)]),\n",
              " RelationRecord(items=frozenset({' spaghetti           ', ' pepper              '}), support=0.007465671243834155, ordered_statistics=[OrderedStatistic(items_base=frozenset({' pepper              '}), items_add=frozenset({' spaghetti           '}), confidence=0.41481481481481486, lift=3.5039706373039707)]),\n",
              " RelationRecord(items=frozenset({'turkey              ', ' pepper              '}), support=0.0035995200639914677, ordered_statistics=[OrderedStatistic(items_base=frozenset({' pepper              '}), items_add=frozenset({'turkey              '}), confidence=0.2, lift=3.3712359550561803)]),\n",
              " RelationRecord(items=frozenset({' spaghetti           ', ' red wine            '}), support=0.005065991201173177, ordered_statistics=[OrderedStatistic(items_base=frozenset({' red wine            '}), items_add=frozenset({' spaghetti           '}), confidence=0.4523809523809524, lift=3.8212945087945087)]),\n",
              " RelationRecord(items=frozenset({' red wine            ', 'burgers             '}), support=0.003332888948140248, ordered_statistics=[OrderedStatistic(items_base=frozenset({' red wine            '}), items_add=frozenset({'burgers             '}), confidence=0.2976190476190476, lift=4.015180712572799)]),\n",
              " RelationRecord(items=frozenset({' shrimp              ', 'burgers             '}), support=0.007465671243834155, ordered_statistics=[OrderedStatistic(items_base=frozenset({' shrimp              '}), items_add=frozenset({'burgers             '}), confidence=0.27053140096618356, lift=3.649741076703854)]),\n",
              " RelationRecord(items=frozenset({'turkey              ', ' shrimp              '}), support=0.005732568990801226, ordered_statistics=[OrderedStatistic(items_base=frozenset({' shrimp              '}), items_add=frozenset({'turkey              '}), confidence=0.2077294685990338, lift=3.501525267328882)]),\n",
              " RelationRecord(items=frozenset({' spaghetti           ', ' tomato sauce        '}), support=0.005465937874950006, ordered_statistics=[OrderedStatistic(items_base=frozenset({' tomato sauce        '}), items_add=frozenset({' spaghetti           '}), confidence=0.5061728395061728, lift=4.275678456234011)]),\n",
              " RelationRecord(items=frozenset({' tomatoes            ', ' spaghetti           '}), support=0.014664711371817091, ordered_statistics=[OrderedStatistic(items_base=frozenset({' tomatoes            '}), items_add=frozenset({' spaghetti           '}), confidence=0.3806228373702422, lift=3.215148539543003)])]"
            ]
          },
          "execution_count": 72,
          "metadata": {},
          "output_type": "execute_result"
        }
      ],
      "source": [
        "results = list(rules)\n",
        "results"
      ]
    },
    {
      "cell_type": "markdown",
      "metadata": {
        "colab_type": "text",
        "id": "iO6bF_dImT-E"
      },
      "source": [
        "### Displaying the first results coming directly from the output of the apriori function"
      ]
    },
    {
      "cell_type": "code",
      "execution_count": 73,
      "metadata": {},
      "outputs": [],
      "source": [
        "def inspect(results):\n",
        "    lhs = [tuple(result[2][0][0])[0] for result in results]\n",
        "    rhs = [tuple(result[2][0][1])[0] for result in results]\n",
        "    supports = [result[1] for result in results]\n",
        "    confidences = [result[2][0][2] for result in results]\n",
        "    lifts = [result[2][0][3] for result in results]\n",
        "    return list(zip(lhs, rhs, supports, confidences, lifts))\n",
        "\n",
        "\n"
      ]
    },
    {
      "cell_type": "markdown",
      "metadata": {
        "colab_type": "text",
        "id": "MFkQP-fcjDBC"
      },
      "source": [
        "### Putting the results well organised into a Pandas DataFrame"
      ]
    },
    {
      "cell_type": "code",
      "execution_count": 74,
      "metadata": {},
      "outputs": [],
      "source": [
        "resultsinDataFrame = pd.DataFrame(\n",
        "    inspect(results),\n",
        "    columns=[\"Left Hand Side\", \"Right Hand Side\", \"Support\", \"Confidence\", \"Lift\"],\n",
        ")"
      ]
    },
    {
      "cell_type": "markdown",
      "metadata": {
        "colab_type": "text",
        "id": "Pfn-G1eAjjLz"
      },
      "source": [
        "### Displaying the results non sorted"
      ]
    },
    {
      "cell_type": "code",
      "execution_count": 75,
      "metadata": {},
      "outputs": [
        {
          "data": {
            "text/html": [
              "<div>\n",
              "<style scoped>\n",
              "    .dataframe tbody tr th:only-of-type {\n",
              "        vertical-align: middle;\n",
              "    }\n",
              "\n",
              "    .dataframe tbody tr th {\n",
              "        vertical-align: top;\n",
              "    }\n",
              "\n",
              "    .dataframe thead th {\n",
              "        text-align: right;\n",
              "    }\n",
              "</style>\n",
              "<table border=\"1\" class=\"dataframe\">\n",
              "  <thead>\n",
              "    <tr style=\"text-align: right;\">\n",
              "      <th></th>\n",
              "      <th>Left Hand Side</th>\n",
              "      <th>Right Hand Side</th>\n",
              "      <th>Support</th>\n",
              "      <th>Confidence</th>\n",
              "      <th>Lift</th>\n",
              "    </tr>\n",
              "  </thead>\n",
              "  <tbody>\n",
              "    <tr>\n",
              "      <th>0</th>\n",
              "      <td>almonds</td>\n",
              "      <td>burgers</td>\n",
              "      <td>0.004266</td>\n",
              "      <td>0.244275</td>\n",
              "      <td>3.295513</td>\n",
              "    </tr>\n",
              "    <tr>\n",
              "      <th>1</th>\n",
              "      <td>bacon</td>\n",
              "      <td>spaghetti</td>\n",
              "      <td>0.002933</td>\n",
              "      <td>0.385965</td>\n",
              "      <td>3.260273</td>\n",
              "    </tr>\n",
              "    <tr>\n",
              "      <th>2</th>\n",
              "      <td>black tea</td>\n",
              "      <td>milk</td>\n",
              "      <td>0.003733</td>\n",
              "      <td>0.311111</td>\n",
              "      <td>3.218820</td>\n",
              "    </tr>\n",
              "    <tr>\n",
              "      <th>3</th>\n",
              "      <td>burgers</td>\n",
              "      <td>turkey</td>\n",
              "      <td>0.009732</td>\n",
              "      <td>0.948052</td>\n",
              "      <td>15.980534</td>\n",
              "    </tr>\n",
              "    <tr>\n",
              "      <th>4</th>\n",
              "      <td>cereals</td>\n",
              "      <td>milk</td>\n",
              "      <td>0.005466</td>\n",
              "      <td>0.320312</td>\n",
              "      <td>3.314019</td>\n",
              "    </tr>\n",
              "    <tr>\n",
              "      <th>...</th>\n",
              "      <td>...</td>\n",
              "      <td>...</td>\n",
              "      <td>...</td>\n",
              "      <td>...</td>\n",
              "      <td>...</td>\n",
              "    </tr>\n",
              "    <tr>\n",
              "      <th>74</th>\n",
              "      <td>red wine</td>\n",
              "      <td>burgers</td>\n",
              "      <td>0.003333</td>\n",
              "      <td>0.297619</td>\n",
              "      <td>4.015181</td>\n",
              "    </tr>\n",
              "    <tr>\n",
              "      <th>75</th>\n",
              "      <td>shrimp</td>\n",
              "      <td>burgers</td>\n",
              "      <td>0.007466</td>\n",
              "      <td>0.270531</td>\n",
              "      <td>3.649741</td>\n",
              "    </tr>\n",
              "    <tr>\n",
              "      <th>76</th>\n",
              "      <td>shrimp</td>\n",
              "      <td>turkey</td>\n",
              "      <td>0.005733</td>\n",
              "      <td>0.207729</td>\n",
              "      <td>3.501525</td>\n",
              "    </tr>\n",
              "    <tr>\n",
              "      <th>77</th>\n",
              "      <td>tomato sauce</td>\n",
              "      <td>spaghetti</td>\n",
              "      <td>0.005466</td>\n",
              "      <td>0.506173</td>\n",
              "      <td>4.275678</td>\n",
              "    </tr>\n",
              "    <tr>\n",
              "      <th>78</th>\n",
              "      <td>tomatoes</td>\n",
              "      <td>spaghetti</td>\n",
              "      <td>0.014665</td>\n",
              "      <td>0.380623</td>\n",
              "      <td>3.215149</td>\n",
              "    </tr>\n",
              "  </tbody>\n",
              "</table>\n",
              "<p>79 rows × 5 columns</p>\n",
              "</div>"
            ],
            "text/plain": [
              "           Left Hand Side        Right Hand Side   Support  Confidence  \\\n",
              "0    almonds                burgers               0.004266    0.244275   \n",
              "1    bacon                  spaghetti             0.002933    0.385965   \n",
              "2    black tea              milk                  0.003733    0.311111   \n",
              "3    burgers                turkey                0.009732    0.948052   \n",
              "4    cereals                milk                  0.005466    0.320312   \n",
              "..                    ...                    ...       ...         ...   \n",
              "74   red wine               burgers               0.003333    0.297619   \n",
              "75   shrimp                 burgers               0.007466    0.270531   \n",
              "76   shrimp                 turkey                0.005733    0.207729   \n",
              "77   tomato sauce           spaghetti             0.005466    0.506173   \n",
              "78   tomatoes               spaghetti             0.014665    0.380623   \n",
              "\n",
              "         Lift  \n",
              "0    3.295513  \n",
              "1    3.260273  \n",
              "2    3.218820  \n",
              "3   15.980534  \n",
              "4    3.314019  \n",
              "..        ...  \n",
              "74   4.015181  \n",
              "75   3.649741  \n",
              "76   3.501525  \n",
              "77   4.275678  \n",
              "78   3.215149  \n",
              "\n",
              "[79 rows x 5 columns]"
            ]
          },
          "execution_count": 75,
          "metadata": {},
          "output_type": "execute_result"
        }
      ],
      "source": [
        "resultsinDataFrame"
      ]
    },
    {
      "cell_type": "markdown",
      "metadata": {
        "colab_type": "text",
        "id": "IjrrlYW4jpTR"
      },
      "source": [
        "### Displaying the results sorted by descending lifts"
      ]
    },
    {
      "cell_type": "code",
      "execution_count": 76,
      "metadata": {},
      "outputs": [
        {
          "data": {
            "text/html": [
              "<div>\n",
              "<style scoped>\n",
              "    .dataframe tbody tr th:only-of-type {\n",
              "        vertical-align: middle;\n",
              "    }\n",
              "\n",
              "    .dataframe tbody tr th {\n",
              "        vertical-align: top;\n",
              "    }\n",
              "\n",
              "    .dataframe thead th {\n",
              "        text-align: right;\n",
              "    }\n",
              "</style>\n",
              "<table border=\"1\" class=\"dataframe\">\n",
              "  <thead>\n",
              "    <tr style=\"text-align: right;\">\n",
              "      <th></th>\n",
              "      <th>Left Hand Side</th>\n",
              "      <th>Right Hand Side</th>\n",
              "      <th>Support</th>\n",
              "      <th>Confidence</th>\n",
              "      <th>Lift</th>\n",
              "    </tr>\n",
              "  </thead>\n",
              "  <tbody>\n",
              "    <tr>\n",
              "      <th>3</th>\n",
              "      <td>burgers</td>\n",
              "      <td>turkey</td>\n",
              "      <td>0.009732</td>\n",
              "      <td>0.948052</td>\n",
              "      <td>15.980534</td>\n",
              "    </tr>\n",
              "    <tr>\n",
              "      <th>22</th>\n",
              "      <td>fromage blanc</td>\n",
              "      <td>honey</td>\n",
              "      <td>0.003066</td>\n",
              "      <td>0.273810</td>\n",
              "      <td>8.739767</td>\n",
              "    </tr>\n",
              "    <tr>\n",
              "      <th>21</th>\n",
              "      <td>fresh tuna</td>\n",
              "      <td>burgers</td>\n",
              "      <td>0.003066</td>\n",
              "      <td>0.605263</td>\n",
              "      <td>8.165610</td>\n",
              "    </tr>\n",
              "    <tr>\n",
              "      <th>18</th>\n",
              "      <td>tomato juice</td>\n",
              "      <td>fresh bread</td>\n",
              "      <td>0.002800</td>\n",
              "      <td>0.210000</td>\n",
              "      <td>7.955606</td>\n",
              "    </tr>\n",
              "    <tr>\n",
              "      <th>14</th>\n",
              "      <td>mushroom cream sauce</td>\n",
              "      <td>escalope</td>\n",
              "      <td>0.004533</td>\n",
              "      <td>0.250000</td>\n",
              "      <td>7.685451</td>\n",
              "    </tr>\n",
              "    <tr>\n",
              "      <th>50</th>\n",
              "      <td>ham</td>\n",
              "      <td>burgers</td>\n",
              "      <td>0.004799</td>\n",
              "      <td>0.486486</td>\n",
              "      <td>6.563193</td>\n",
              "    </tr>\n",
              "    <tr>\n",
              "      <th>53</th>\n",
              "      <td>herb &amp; pepper</td>\n",
              "      <td>grated cheese</td>\n",
              "      <td>0.004266</td>\n",
              "      <td>0.235294</td>\n",
              "      <td>6.488754</td>\n",
              "    </tr>\n",
              "    <tr>\n",
              "      <th>55</th>\n",
              "      <td>fresh tuna</td>\n",
              "      <td>honey</td>\n",
              "      <td>0.003333</td>\n",
              "      <td>0.201613</td>\n",
              "      <td>6.435312</td>\n",
              "    </tr>\n",
              "    <tr>\n",
              "      <th>32</th>\n",
              "      <td>grated cheese</td>\n",
              "      <td>turkey</td>\n",
              "      <td>0.004933</td>\n",
              "      <td>0.373737</td>\n",
              "      <td>6.299784</td>\n",
              "    </tr>\n",
              "    <tr>\n",
              "      <th>34</th>\n",
              "      <td>low fat yogurt</td>\n",
              "      <td>green tea</td>\n",
              "      <td>0.004533</td>\n",
              "      <td>0.576271</td>\n",
              "      <td>6.122677</td>\n",
              "    </tr>\n",
              "  </tbody>\n",
              "</table>\n",
              "</div>"
            ],
            "text/plain": [
              "           Left Hand Side        Right Hand Side   Support  Confidence  \\\n",
              "3    burgers                turkey                0.009732    0.948052   \n",
              "22   fromage blanc          honey                 0.003066    0.273810   \n",
              "21   fresh tuna             burgers               0.003066    0.605263   \n",
              "18   tomato juice                    fresh bread  0.002800    0.210000   \n",
              "14   mushroom cream sauce   escalope              0.004533    0.250000   \n",
              "50   ham                    burgers               0.004799    0.486486   \n",
              "53   herb & pepper          grated cheese         0.004266    0.235294   \n",
              "55   fresh tuna             honey                 0.003333    0.201613   \n",
              "32   grated cheese          turkey                0.004933    0.373737   \n",
              "34   low fat yogurt                    green tea  0.004533    0.576271   \n",
              "\n",
              "         Lift  \n",
              "3   15.980534  \n",
              "22   8.739767  \n",
              "21   8.165610  \n",
              "18   7.955606  \n",
              "14   7.685451  \n",
              "50   6.563193  \n",
              "53   6.488754  \n",
              "55   6.435312  \n",
              "32   6.299784  \n",
              "34   6.122677  "
            ]
          },
          "execution_count": 76,
          "metadata": {},
          "output_type": "execute_result"
        }
      ],
      "source": [
        "resultsinDataFrame.nlargest(n=10, columns=\"Lift\")"
      ]
    }
  ],
  "metadata": {
    "colab": {
      "collapsed_sections": [],
      "name": "apriori.ipynb",
      "provenance": [],
      "toc_visible": true
    },
    "kernelspec": {
      "display_name": "ML_BASICS",
      "language": "python",
      "name": "python3"
    },
    "language_info": {
      "codemirror_mode": {
        "name": "ipython",
        "version": 3
      },
      "file_extension": ".py",
      "mimetype": "text/x-python",
      "name": "python",
      "nbconvert_exporter": "python",
      "pygments_lexer": "ipython3",
      "version": "3.11.11"
    }
  },
  "nbformat": 4,
  "nbformat_minor": 0
}
